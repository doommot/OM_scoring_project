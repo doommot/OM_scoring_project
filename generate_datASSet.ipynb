{
 "cells": [
  {
   "cell_type": "code",
   "execution_count": 134,
   "id": "e079167a",
   "metadata": {},
   "outputs": [],
   "source": [
    "import pandas as pd\n",
    "import numpy as np\n",
    "from sklearn.metrics import roc_auc_score"
   ]
  },
  {
   "cell_type": "code",
   "execution_count": 135,
   "id": "81db2fab",
   "metadata": {},
   "outputs": [],
   "source": [
    "np.random.seed(0)\n",
    "n = 10000\n",
    "start_id = 4633210\n",
    "start_date = pd.Timestamp('2024-01-01')\n",
    "end_date = pd.Timestamp('2024-04-30 23:59:59')"
   ]
  },
  {
   "cell_type": "code",
   "execution_count": 136,
   "id": "fce18ca3",
   "metadata": {},
   "outputs": [],
   "source": [
    "def gini(y_true, y_score):\n",
    "    auc = roc_auc_score(y_true, y_score)\n",
    "    return 2 * auc - 1"
   ]
  },
  {
   "cell_type": "code",
   "execution_count": 137,
   "id": "0fff5e52",
   "metadata": {},
   "outputs": [
    {
     "data": {
      "application/vnd.microsoft.datawrangler.viewer.v0+json": {
       "columns": [
        {
         "name": "id",
         "rawType": "int64",
         "type": "integer"
        },
        {
         "name": "application_datetime",
         "rawType": "datetime64[ns]",
         "type": "datetime"
        }
       ],
       "ref": "5ffd5306-d01c-4c6b-9274-93854463656d",
       "rows": [
        [
         "4633210",
         "2024-01-01 00:12:37"
        ],
        [
         "4633211",
         "2024-01-01 00:12:50"
        ],
        [
         "4633212",
         "2024-01-01 00:26:12"
        ],
        [
         "4633213",
         "2024-01-01 00:44:13"
        ],
        [
         "4633214",
         "2024-01-01 00:53:24"
        ],
        [
         "4633215",
         "2024-01-01 01:04:00"
        ],
        [
         "4633216",
         "2024-01-01 01:25:32"
        ],
        [
         "4633217",
         "2024-01-01 01:35:07"
        ],
        [
         "4633218",
         "2024-01-01 01:39:15"
        ],
        [
         "4633219",
         "2024-01-01 01:55:44"
        ],
        [
         "4633220",
         "2024-01-01 02:06:37"
        ],
        [
         "4633221",
         "2024-01-01 02:28:16"
        ],
        [
         "4633222",
         "2024-01-01 02:37:23"
        ],
        [
         "4633223",
         "2024-01-01 03:15:30"
        ],
        [
         "4633224",
         "2024-01-01 03:45:59"
        ],
        [
         "4633225",
         "2024-01-01 03:58:36"
        ],
        [
         "4633226",
         "2024-01-01 04:01:02"
        ],
        [
         "4633227",
         "2024-01-01 04:15:57"
        ],
        [
         "4633228",
         "2024-01-01 04:37:50"
        ],
        [
         "4633229",
         "2024-01-01 04:49:52"
        ],
        [
         "4633230",
         "2024-01-01 04:51:51"
        ],
        [
         "4633231",
         "2024-01-01 04:53:30"
        ],
        [
         "4633232",
         "2024-01-01 05:02:47"
        ],
        [
         "4633233",
         "2024-01-01 05:08:49"
        ],
        [
         "4633234",
         "2024-01-01 05:11:44"
        ],
        [
         "4633235",
         "2024-01-01 05:11:51"
        ],
        [
         "4633236",
         "2024-01-01 05:17:01"
        ],
        [
         "4633237",
         "2024-01-01 05:34:32"
        ],
        [
         "4633238",
         "2024-01-01 05:41:44"
        ],
        [
         "4633239",
         "2024-01-01 05:41:53"
        ],
        [
         "4633240",
         "2024-01-01 05:50:33"
        ],
        [
         "4633241",
         "2024-01-01 05:59:44"
        ],
        [
         "4633242",
         "2024-01-01 06:03:05"
        ],
        [
         "4633243",
         "2024-01-01 06:10:19"
        ],
        [
         "4633244",
         "2024-01-01 06:19:32"
        ],
        [
         "4633245",
         "2024-01-01 06:23:22"
        ],
        [
         "4633246",
         "2024-01-01 06:42:25"
        ],
        [
         "4633247",
         "2024-01-01 07:17:53"
        ],
        [
         "4633248",
         "2024-01-01 07:21:54"
        ],
        [
         "4633249",
         "2024-01-01 07:37:21"
        ],
        [
         "4633250",
         "2024-01-01 07:51:00"
        ],
        [
         "4633251",
         "2024-01-01 07:54:57"
        ],
        [
         "4633252",
         "2024-01-01 07:55:06"
        ],
        [
         "4633253",
         "2024-01-01 08:02:48"
        ],
        [
         "4633254",
         "2024-01-01 09:55:36"
        ],
        [
         "4633255",
         "2024-01-01 10:11:42"
        ],
        [
         "4633256",
         "2024-01-01 10:14:02"
        ],
        [
         "4633257",
         "2024-01-01 10:46:23"
        ],
        [
         "4633258",
         "2024-01-01 11:12:37"
        ],
        [
         "4633259",
         "2024-01-01 11:13:41"
        ]
       ],
       "shape": {
        "columns": 1,
        "rows": 10000
       }
      },
      "text/html": [
       "<div>\n",
       "<style scoped>\n",
       "    .dataframe tbody tr th:only-of-type {\n",
       "        vertical-align: middle;\n",
       "    }\n",
       "\n",
       "    .dataframe tbody tr th {\n",
       "        vertical-align: top;\n",
       "    }\n",
       "\n",
       "    .dataframe thead th {\n",
       "        text-align: right;\n",
       "    }\n",
       "</style>\n",
       "<table border=\"1\" class=\"dataframe\">\n",
       "  <thead>\n",
       "    <tr style=\"text-align: right;\">\n",
       "      <th></th>\n",
       "      <th>application_datetime</th>\n",
       "    </tr>\n",
       "    <tr>\n",
       "      <th>id</th>\n",
       "      <th></th>\n",
       "    </tr>\n",
       "  </thead>\n",
       "  <tbody>\n",
       "    <tr>\n",
       "      <th>4633210</th>\n",
       "      <td>2024-01-01 00:12:37</td>\n",
       "    </tr>\n",
       "    <tr>\n",
       "      <th>4633211</th>\n",
       "      <td>2024-01-01 00:12:50</td>\n",
       "    </tr>\n",
       "    <tr>\n",
       "      <th>4633212</th>\n",
       "      <td>2024-01-01 00:26:12</td>\n",
       "    </tr>\n",
       "    <tr>\n",
       "      <th>4633213</th>\n",
       "      <td>2024-01-01 00:44:13</td>\n",
       "    </tr>\n",
       "    <tr>\n",
       "      <th>4633214</th>\n",
       "      <td>2024-01-01 00:53:24</td>\n",
       "    </tr>\n",
       "    <tr>\n",
       "      <th>...</th>\n",
       "      <td>...</td>\n",
       "    </tr>\n",
       "    <tr>\n",
       "      <th>4643205</th>\n",
       "      <td>2024-04-30 23:47:59</td>\n",
       "    </tr>\n",
       "    <tr>\n",
       "      <th>4643206</th>\n",
       "      <td>2024-04-30 23:51:05</td>\n",
       "    </tr>\n",
       "    <tr>\n",
       "      <th>4643207</th>\n",
       "      <td>2024-04-30 23:52:25</td>\n",
       "    </tr>\n",
       "    <tr>\n",
       "      <th>4643208</th>\n",
       "      <td>2024-04-30 23:53:42</td>\n",
       "    </tr>\n",
       "    <tr>\n",
       "      <th>4643209</th>\n",
       "      <td>2024-04-30 23:56:08</td>\n",
       "    </tr>\n",
       "  </tbody>\n",
       "</table>\n",
       "<p>10000 rows × 1 columns</p>\n",
       "</div>"
      ],
      "text/plain": [
       "        application_datetime\n",
       "id                          \n",
       "4633210  2024-01-01 00:12:37\n",
       "4633211  2024-01-01 00:12:50\n",
       "4633212  2024-01-01 00:26:12\n",
       "4633213  2024-01-01 00:44:13\n",
       "4633214  2024-01-01 00:53:24\n",
       "...                      ...\n",
       "4643205  2024-04-30 23:47:59\n",
       "4643206  2024-04-30 23:51:05\n",
       "4643207  2024-04-30 23:52:25\n",
       "4643208  2024-04-30 23:53:42\n",
       "4643209  2024-04-30 23:56:08\n",
       "\n",
       "[10000 rows x 1 columns]"
      ]
     },
     "execution_count": 137,
     "metadata": {},
     "output_type": "execute_result"
    }
   ],
   "source": [
    "ids = np.arange(start_id, start_id + n)\n",
    "\n",
    "timestamps = pd.to_datetime(\n",
    "    np.random.uniform(start_date.value, end_date.value, n)\n",
    ").floor('s')\n",
    "timestamps = pd.Series(timestamps).sort_values().values\n",
    "df = pd.DataFrame({'id': ids, 'application_datetime': timestamps}).set_index('id')\n",
    "df"
   ]
  },
  {
   "cell_type": "code",
   "execution_count": 138,
   "id": "c17c0f84",
   "metadata": {},
   "outputs": [
    {
     "data": {
      "application/vnd.microsoft.datawrangler.viewer.v0+json": {
       "columns": [
        {
         "name": "id",
         "rawType": "int64",
         "type": "integer"
        },
        {
         "name": "application_datetime",
         "rawType": "datetime64[ns]",
         "type": "datetime"
        },
        {
         "name": "def_45",
         "rawType": "int64",
         "type": "integer"
        }
       ],
       "ref": "037170c1-6df1-47a4-bd07-56d17ec841d3",
       "rows": [
        [
         "4633210",
         "2024-01-01 00:12:37",
         "1"
        ],
        [
         "4633211",
         "2024-01-01 00:12:50",
         "0"
        ],
        [
         "4633212",
         "2024-01-01 00:26:12",
         "0"
        ],
        [
         "4633213",
         "2024-01-01 00:44:13",
         "1"
        ],
        [
         "4633214",
         "2024-01-01 00:53:24",
         "1"
        ],
        [
         "4633215",
         "2024-01-01 01:04:00",
         "1"
        ],
        [
         "4633216",
         "2024-01-01 01:25:32",
         "0"
        ],
        [
         "4633217",
         "2024-01-01 01:35:07",
         "0"
        ],
        [
         "4633218",
         "2024-01-01 01:39:15",
         "0"
        ],
        [
         "4633219",
         "2024-01-01 01:55:44",
         "1"
        ],
        [
         "4633220",
         "2024-01-01 02:06:37",
         "0"
        ],
        [
         "4633221",
         "2024-01-01 02:28:16",
         "0"
        ],
        [
         "4633222",
         "2024-01-01 02:37:23",
         "1"
        ],
        [
         "4633223",
         "2024-01-01 03:15:30",
         "1"
        ],
        [
         "4633224",
         "2024-01-01 03:45:59",
         "1"
        ],
        [
         "4633225",
         "2024-01-01 03:58:36",
         "0"
        ],
        [
         "4633226",
         "2024-01-01 04:01:02",
         "0"
        ],
        [
         "4633227",
         "2024-01-01 04:15:57",
         "0"
        ],
        [
         "4633228",
         "2024-01-01 04:37:50",
         "0"
        ],
        [
         "4633229",
         "2024-01-01 04:49:52",
         "1"
        ],
        [
         "4633230",
         "2024-01-01 04:51:51",
         "0"
        ],
        [
         "4633231",
         "2024-01-01 04:53:30",
         "1"
        ],
        [
         "4633232",
         "2024-01-01 05:02:47",
         "1"
        ],
        [
         "4633233",
         "2024-01-01 05:08:49",
         "0"
        ],
        [
         "4633234",
         "2024-01-01 05:11:44",
         "0"
        ],
        [
         "4633235",
         "2024-01-01 05:11:51",
         "1"
        ],
        [
         "4633236",
         "2024-01-01 05:17:01",
         "1"
        ],
        [
         "4633237",
         "2024-01-01 05:34:32",
         "1"
        ],
        [
         "4633238",
         "2024-01-01 05:41:44",
         "1"
        ],
        [
         "4633239",
         "2024-01-01 05:41:53",
         "1"
        ],
        [
         "4633240",
         "2024-01-01 05:50:33",
         "0"
        ],
        [
         "4633241",
         "2024-01-01 05:59:44",
         "1"
        ],
        [
         "4633242",
         "2024-01-01 06:03:05",
         "0"
        ],
        [
         "4633243",
         "2024-01-01 06:10:19",
         "0"
        ],
        [
         "4633244",
         "2024-01-01 06:19:32",
         "1"
        ],
        [
         "4633245",
         "2024-01-01 06:23:22",
         "1"
        ],
        [
         "4633246",
         "2024-01-01 06:42:25",
         "0"
        ],
        [
         "4633247",
         "2024-01-01 07:17:53",
         "0"
        ],
        [
         "4633248",
         "2024-01-01 07:21:54",
         "0"
        ],
        [
         "4633249",
         "2024-01-01 07:37:21",
         "1"
        ],
        [
         "4633250",
         "2024-01-01 07:51:00",
         "1"
        ],
        [
         "4633251",
         "2024-01-01 07:54:57",
         "0"
        ],
        [
         "4633252",
         "2024-01-01 07:55:06",
         "1"
        ],
        [
         "4633253",
         "2024-01-01 08:02:48",
         "0"
        ],
        [
         "4633254",
         "2024-01-01 09:55:36",
         "1"
        ],
        [
         "4633255",
         "2024-01-01 10:11:42",
         "1"
        ],
        [
         "4633256",
         "2024-01-01 10:14:02",
         "1"
        ],
        [
         "4633257",
         "2024-01-01 10:46:23",
         "1"
        ],
        [
         "4633258",
         "2024-01-01 11:12:37",
         "1"
        ],
        [
         "4633259",
         "2024-01-01 11:13:41",
         "0"
        ]
       ],
       "shape": {
        "columns": 2,
        "rows": 10000
       }
      },
      "text/html": [
       "<div>\n",
       "<style scoped>\n",
       "    .dataframe tbody tr th:only-of-type {\n",
       "        vertical-align: middle;\n",
       "    }\n",
       "\n",
       "    .dataframe tbody tr th {\n",
       "        vertical-align: top;\n",
       "    }\n",
       "\n",
       "    .dataframe thead th {\n",
       "        text-align: right;\n",
       "    }\n",
       "</style>\n",
       "<table border=\"1\" class=\"dataframe\">\n",
       "  <thead>\n",
       "    <tr style=\"text-align: right;\">\n",
       "      <th></th>\n",
       "      <th>application_datetime</th>\n",
       "      <th>def_45</th>\n",
       "    </tr>\n",
       "    <tr>\n",
       "      <th>id</th>\n",
       "      <th></th>\n",
       "      <th></th>\n",
       "    </tr>\n",
       "  </thead>\n",
       "  <tbody>\n",
       "    <tr>\n",
       "      <th>4633210</th>\n",
       "      <td>2024-01-01 00:12:37</td>\n",
       "      <td>1</td>\n",
       "    </tr>\n",
       "    <tr>\n",
       "      <th>4633211</th>\n",
       "      <td>2024-01-01 00:12:50</td>\n",
       "      <td>0</td>\n",
       "    </tr>\n",
       "    <tr>\n",
       "      <th>4633212</th>\n",
       "      <td>2024-01-01 00:26:12</td>\n",
       "      <td>0</td>\n",
       "    </tr>\n",
       "    <tr>\n",
       "      <th>4633213</th>\n",
       "      <td>2024-01-01 00:44:13</td>\n",
       "      <td>1</td>\n",
       "    </tr>\n",
       "    <tr>\n",
       "      <th>4633214</th>\n",
       "      <td>2024-01-01 00:53:24</td>\n",
       "      <td>1</td>\n",
       "    </tr>\n",
       "    <tr>\n",
       "      <th>...</th>\n",
       "      <td>...</td>\n",
       "      <td>...</td>\n",
       "    </tr>\n",
       "    <tr>\n",
       "      <th>4643205</th>\n",
       "      <td>2024-04-30 23:47:59</td>\n",
       "      <td>1</td>\n",
       "    </tr>\n",
       "    <tr>\n",
       "      <th>4643206</th>\n",
       "      <td>2024-04-30 23:51:05</td>\n",
       "      <td>0</td>\n",
       "    </tr>\n",
       "    <tr>\n",
       "      <th>4643207</th>\n",
       "      <td>2024-04-30 23:52:25</td>\n",
       "      <td>1</td>\n",
       "    </tr>\n",
       "    <tr>\n",
       "      <th>4643208</th>\n",
       "      <td>2024-04-30 23:53:42</td>\n",
       "      <td>0</td>\n",
       "    </tr>\n",
       "    <tr>\n",
       "      <th>4643209</th>\n",
       "      <td>2024-04-30 23:56:08</td>\n",
       "      <td>1</td>\n",
       "    </tr>\n",
       "  </tbody>\n",
       "</table>\n",
       "<p>10000 rows × 2 columns</p>\n",
       "</div>"
      ],
      "text/plain": [
       "        application_datetime  def_45\n",
       "id                                  \n",
       "4633210  2024-01-01 00:12:37       1\n",
       "4633211  2024-01-01 00:12:50       0\n",
       "4633212  2024-01-01 00:26:12       0\n",
       "4633213  2024-01-01 00:44:13       1\n",
       "4633214  2024-01-01 00:53:24       1\n",
       "...                      ...     ...\n",
       "4643205  2024-04-30 23:47:59       1\n",
       "4643206  2024-04-30 23:51:05       0\n",
       "4643207  2024-04-30 23:52:25       1\n",
       "4643208  2024-04-30 23:53:42       0\n",
       "4643209  2024-04-30 23:56:08       1\n",
       "\n",
       "[10000 rows x 2 columns]"
      ]
     },
     "execution_count": 138,
     "metadata": {},
     "output_type": "execute_result"
    }
   ],
   "source": [
    "df['def_45'] = np.random.permutation([1]*3840 + [0]*6160)\n",
    "df"
   ]
  },
  {
   "cell_type": "markdown",
   "id": "f4c427e1",
   "metadata": {},
   "source": [
    "#### генерация дженериков"
   ]
  },
  {
   "cell_type": "code",
   "execution_count": 139,
   "id": "0d0cc024",
   "metadata": {},
   "outputs": [],
   "source": [
    "def generate_feature(df, name, multiplier, noise, round=3):\n",
    "    \n",
    "    df[name] = df['def_45'] * multiplier + np.random.normal(loc=0, scale=df['def_45'].std() * noise, size=len(df))\n",
    "    df.loc[df[name] < 0, name] = np.random.uniform(0, 1, (df[name] < 0).sum())\n",
    "    df.loc[df[name] > 1, name] = np.random.uniform(0, 1, (df[name] > 1).sum())\n",
    "    df[name] = df[name].round(round)\n",
    "\n",
    "    return gini(df['def_45'], df[name])"
   ]
  },
  {
   "cell_type": "code",
   "execution_count": 140,
   "id": "a798a7ce",
   "metadata": {},
   "outputs": [
    {
     "data": {
      "text/plain": [
       "0.43610685538419913"
      ]
     },
     "execution_count": 140,
     "metadata": {},
     "output_type": "execute_result"
    }
   ],
   "source": [
    "generate_feature(df, 'MTS_score', 0.6, 0.6)"
   ]
  },
  {
   "cell_type": "code",
   "execution_count": 141,
   "id": "ab11782b",
   "metadata": {},
   "outputs": [
    {
     "data": {
      "text/plain": [
       "0.3410475006764071"
      ]
     },
     "execution_count": 141,
     "metadata": {},
     "output_type": "execute_result"
    }
   ],
   "source": [
    "generate_feature(df, 'fraud_score', 0.4, 0.3)"
   ]
  },
  {
   "cell_type": "code",
   "execution_count": 142,
   "id": "2b46f26e",
   "metadata": {},
   "outputs": [
    {
     "data": {
      "text/plain": [
       "0.17327571191828994"
      ]
     },
     "execution_count": 142,
     "metadata": {},
     "output_type": "execute_result"
    }
   ],
   "source": [
    "generate_feature(df, 'OKB_score', 0.3, 0.3, 5)"
   ]
  },
  {
   "cell_type": "code",
   "execution_count": 143,
   "id": "7cbd158d",
   "metadata": {},
   "outputs": [
    {
     "data": {
      "text/plain": [
       "0.25453471658549787"
      ]
     },
     "execution_count": 143,
     "metadata": {},
     "output_type": "execute_result"
    }
   ],
   "source": [
    "generate_feature(df, 'antibankrupt_score', 0.25, 0.15, 2)"
   ]
  },
  {
   "cell_type": "code",
   "execution_count": 144,
   "id": "07052a6d",
   "metadata": {},
   "outputs": [],
   "source": [
    "df['antibankrupt_score'] = 1-df['antibankrupt_score']"
   ]
  },
  {
   "cell_type": "markdown",
   "id": "6a63ec43",
   "metadata": {},
   "source": [
    "#### генерация мусорных фичей"
   ]
  },
  {
   "cell_type": "code",
   "execution_count": 149,
   "id": "010aecb9",
   "metadata": {},
   "outputs": [],
   "source": [
    "columns_to_copy = ['avg_credit_card_utilization_last_12m', 'num_late_payments_last_24m', 'max_num_simultaneous_loans', 'max_utilization_single_card', 'revolving_balance_trend_12m']"
   ]
  },
  {
   "cell_type": "code",
   "execution_count": null,
   "id": "12282ae8",
   "metadata": {},
   "outputs": [],
   "source": [
    "for col in columns_to_copy:\n",
    "    new_col = f'{col}_half'\n",
    "    df[new_col] = df[col].copy()\n",
    "    nan_indices = np.random.choice(df.index, size=len(df)//2, replace=False)\n",
    "    df.loc[nan_indices, new_col] = np.nan\n",
    "df"
   ]
  },
  {
   "cell_type": "code",
   "execution_count": null,
   "id": "56d89342",
   "metadata": {},
   "outputs": [],
   "source": [
    "for i in range(204):\n",
    "    cum = i%70\n",
    "    col = f'{df.columns[cum]}_{i}'\n",
    "    df[col] = np.nan\n",
    "    nan_count = int(0.95 * len(df))\n",
    "    not_nan_idx = np.random.choice(df.index, size=len(df)-nan_count, replace=False)\n",
    "    df.loc[not_nan_idx, col] = np.random.randn(len(not_nan_idx))\n",
    "df"
   ]
  },
  {
   "cell_type": "code",
   "execution_count": null,
   "id": "9cc7224e",
   "metadata": {},
   "outputs": [],
   "source": [
    "for col in columns_to_copy:\n",
    "    noise = np.random.normal(0, 0.2 * df[col].std(skipna=True), size=len(df))\n",
    "    df[f'{col}_worse'] = df[col] + noise\n",
    "df"
   ]
  },
  {
   "cell_type": "code",
   "execution_count": null,
   "id": "bdd343e0",
   "metadata": {},
   "outputs": [],
   "source": [
    "for i in range(69):\n",
    "    col = f'id_{np.random.randint(1000, 9999)}_{np.random.choice([\"foo\", \"bar\", \"baz\", \"qux\", \"quux\"])}'\n",
    "    df[col] = np.random.randint(0, 2, size=len(df))\n",
    "df"
   ]
  },
  {
   "cell_type": "code",
   "execution_count": null,
   "id": "df486e69",
   "metadata": {},
   "outputs": [],
   "source": [
    "import uuid\n",
    "\n",
    "df['system_name'] = ['sys_%03d' % i for i in range(10000)]\n",
    "df['random_id'] = [str(uuid.uuid4()) for _ in range(10000)]\n",
    "df['usbank_runentry_id'] = np.arange(10000, 20000)\n",
    "df['status'] = np.random.choice(['0', '1', '2'], size=10000)\n",
    "df['user_id'] = np.random.randint(10000, 99999, size=10000)\n",
    "df['flag'] = np.random.choice([0, 1], size=10000)\n",
    "df['zone'] = np.random.choice(['A', 'B', 'C'], size=10000)\n",
    "df['priority'] = np.random.randint(1, 5, size=10000)\n",
    "df['checksum'] = [str(uuid.uuid4().int)[:8] for _ in range(10000)]\n",
    "\n",
    "df"
   ]
  },
  {
   "cell_type": "code",
   "execution_count": null,
   "id": "e0601dda",
   "metadata": {},
   "outputs": [],
   "source": [
    "df['id'] = ids\n",
    "df.set_index('id', inplace=True)\n",
    "df"
   ]
  },
  {
   "cell_type": "code",
   "execution_count": null,
   "id": "635d1eeb",
   "metadata": {},
   "outputs": [],
   "source": [
    "col_names_random = [\n",
    "    'ekapusta_vector_9',\n",
    "    'Rusinterfinance_vector',\n",
    "    'gamma_refactor_pod',\n",
    "    'quanta_latch_jx',\n",
    "    'hexmux_torque_sr',\n",
    "    'delta_noise_pin',\n",
    "    'polysync_emitter_vx',\n",
    "    'wrangle_bitport_8',\n",
    "    'trace_mux_qr',\n",
    "    'scramble_node_5'\n",
    "]\n",
    "for col in col_names_random:\n",
    "    df[col] = np.random.randn(len(df))\n",
    "df"
   ]
  },
  {
   "cell_type": "markdown",
   "id": "e4f4d4e1",
   "metadata": {},
   "source": [
    "#### сохранение"
   ]
  },
  {
   "cell_type": "code",
   "execution_count": null,
   "id": "d78bc7f6",
   "metadata": {},
   "outputs": [],
   "source": [
    "df.to_csv('t.csv', index=True)"
   ]
  }
 ],
 "metadata": {
  "kernelspec": {
   "display_name": ".venv",
   "language": "python",
   "name": "python3"
  },
  "language_info": {
   "codemirror_mode": {
    "name": "ipython",
    "version": 3
   },
   "file_extension": ".py",
   "mimetype": "text/x-python",
   "name": "python",
   "nbconvert_exporter": "python",
   "pygments_lexer": "ipython3",
   "version": "3.12.3"
  }
 },
 "nbformat": 4,
 "nbformat_minor": 5
}
